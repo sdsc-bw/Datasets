{
  "cells": [
    {
      "cell_type": "markdown",
      "metadata": {},
      "source": [
        "<a href=\"https://colab.research.google.com/github/sdsc-bw/Price_Intelligence/blob/main/Flat_Classification.ipynb\" target=\"_parent\"><img src=\"https://colab.research.google.com/assets/colab-badge.svg\" alt=\"Open In Colab\"/></a>"
      ]
    },
    {
      "cell_type": "markdown",
      "metadata": {
        "id": "I2aNXoYlEBJ-"
      },
      "source": [
        "# Automatische Produktklassifizierung als Schlüsselelement zur Nachhaltigkeit im Umgang mit PIM Systemen.\n",
        "\n",
        "<img src=\"images/ws_bg.png\" style=\"width:800px; height:300px;\">\n",
        "\n",
        "Große e-Commerce Konzerne bauen bei der Artikelverwaltung auf maßgeschneiderte Produktinformationssysteme (PIM-Systeme), die mit propritären Produkt- und Strukturketten Hand in Hand arbeiten. Neue Produkte werden i.d.R. über Lieferantenlisten in das hauseigene PIM-System eingepflegt. Dies kann entweder durch regelbasierte Zuweisungen und oder durch von Hand-Eintragung durch Angestellte geschehen. Um diesen Prozess zu optimieren, Arbeitende zu entlasten und die Effizenz der hauseigenen IT-Systeme zu optimieren, gibt es unterschiedliche Ansätze für eine automatische Zuweisung von Artikeln aus Lieferantenlisten in die PIM-Struktur. \n",
        "\n",
        "Ein einfacher und unkomplizierter Ansatz für die taxonomische Klassifizierung ist die flache Klassifizierung - Flat Classification. Bei dieser geht es nicht um übergeordnete Kategorien. Klassifiziert wird jeder Artikel nach seiner endgültigen Bezeichnung auf Blattebene im zugrundeliegenden Graphen, der die PIM-Struktur darstellt. Der offensichtliche Vorteil dieses Ansatzes ist seine Einfachheit, die direkt mit einem einsetzbaren Klassifikator-Algorithmus umgesetzt werden kann.\n",
        "\n",
        "<img src=\"images/bs_bg.png\" style=\"width:800px; height:300px;\">\n",
        "\n",
        "Nachfolgend werden Gedankengänge für einen Vorreiter-Prozess eines Auto-Mappings auf Basis eines Flat-Classification Ansatzes dargestellt, der zum selbst ausprobieren verleiten sollen. Der Datensatz beinhaltet drei Spalten:\n",
        "- Beschreibung\n",
        "- Kurzbeschreibung\n",
        "- Produktgruppe\n",
        "\n",
        "Hier sollen die Beschreibungen in Verbindung mit NLP-Werkzeugen genutzt werden, um eine Klassifikation in die jeweilige Produktgruppe vorzunehmen.\n",
        "\n",
        "Bereigestellt wurden die Daten durch die Price Intelligence GmbH. Unter [diesem Link](https://github.com/sdsc-bw/Price_Intelligence) können die Daten heruntergeladen werden, respektive kann dieses Repository geklont werden.\n",
        "\n",
        "**Ablauf des Workshops:**\n",
        "- Bereitstellung der notwendigen Daten und Pakete\n",
        "- Visuelle Analyse\n",
        "- Strategien für eine erweiterte Textverarbeitung ableiten\n",
        "- Modellbildung\n",
        "- Bereistellung der Metriken\n",
        "- Anpassung der Strategien"
      ]
    },
    {
      "cell_type": "markdown",
      "metadata": {
        "id": "N4yEX7xzxmb1"
      },
      "source": [
        "Zu Beginn werden alle benötigten Pakete importiert nebst Download weiterer benötigter Daten wie zum Beispiel Stopp-Wörter."
      ]
    },
    {
      "cell_type": "code",
      "execution_count": 2,
      "metadata": {
        "id": "r_8YNt1cEAt8"
      },
      "outputs": [],
      "source": [
        "import nltk\n",
        "import pandas as pd \n",
        "import numpy as np \n",
        "import matplotlib.pyplot as plt \n",
        "%matplotlib inline\n",
        "import seaborn as sns\n",
        "\n",
        "import re\n",
        "from nltk.corpus import stopwords \n",
        "from nltk.stem.wordnet import WordNetLemmatizer \n",
        "\n",
        "from sklearn.feature_extraction.text import CountVectorizer\n",
        "from sklearn.feature_extraction.text import TfidfTransformer\n",
        "from sklearn.model_selection import train_test_split\n",
        "from sklearn.metrics import confusion_matrix\n",
        "\n",
        "from sklearn.svm import LinearSVC\n",
        "\n",
        "from sklearn.pipeline import Pipeline\n",
        "from sklearn.metrics import confusion_matrix, accuracy_score, classification_report"
      ]
    },
    {
      "cell_type": "code",
      "execution_count": 3,
      "metadata": {
        "colab": {
          "base_uri": "https://localhost:8080/"
        },
        "id": "8QIs_iPrKQnY",
        "outputId": "51ddd4e6-811e-4323-91e5-78b224f75d33"
      },
      "outputs": [
        {
          "name": "stderr",
          "output_type": "stream",
          "text": [
            "[nltk_data] Downloading package stopwords to\n",
            "[nltk_data]     C:\\Users\\Rainer\\AppData\\Roaming\\nltk_data...\n",
            "[nltk_data]   Unzipping corpora\\stopwords.zip.\n"
          ]
        },
        {
          "data": {
            "text/plain": [
              "True"
            ]
          },
          "execution_count": 3,
          "metadata": {},
          "output_type": "execute_result"
        }
      ],
      "source": [
        "nltk.download('stopwords')"
      ]
    },
    {
      "cell_type": "code",
      "execution_count": 4,
      "metadata": {
        "colab": {
          "base_uri": "https://localhost:8080/"
        },
        "id": "Nkh2HrOrKhN5",
        "outputId": "eeb13d5b-280f-4acc-a8c7-fdf212506314"
      },
      "outputs": [
        {
          "name": "stderr",
          "output_type": "stream",
          "text": [
            "[nltk_data] Downloading package wordnet to\n",
            "[nltk_data]     C:\\Users\\Rainer\\AppData\\Roaming\\nltk_data...\n",
            "[nltk_data]   Package wordnet is already up-to-date!\n"
          ]
        },
        {
          "data": {
            "text/plain": [
              "True"
            ]
          },
          "execution_count": 4,
          "metadata": {},
          "output_type": "execute_result"
        }
      ],
      "source": [
        "nltk.download('wordnet')"
      ]
    },
    {
      "cell_type": "markdown",
      "metadata": {
        "id": "-2qAKkk_yy1D"
      },
      "source": [
        "Zunächst müssen die Daten in einem neuen Datenrahmen abgelegt und genauer betrachtet werden. Schließlich müssen grundlegende Entscheidungen über die Qualität von Beschreibung nebst Titel getroffen werden, um Folgeschritte besser planen zu können."
      ]
    },
    {
      "cell_type": "code",
      "execution_count": 77,
      "metadata": {
        "id": "jtiT3LxIIvx6"
      },
      "outputs": [],
      "source": [
        "df_products = pd.read_csv(r'Ressources/eCom_Produkte.csv', sep=',', encoding='utf-8-sig', compression='zip')"
      ]
    },
    {
      "cell_type": "code",
      "execution_count": 79,
      "metadata": {
        "colab": {
          "base_uri": "https://localhost:8080/",
          "height": 361
        },
        "id": "UxgRy59jI7WR",
        "outputId": "dee6882d-f455-4513-80e3-e8b792f2dd08"
      },
      "outputs": [
        {
          "data": {
            "text/html": [
              "<div>\n",
              "<style scoped>\n",
              "    .dataframe tbody tr th:only-of-type {\n",
              "        vertical-align: middle;\n",
              "    }\n",
              "\n",
              "    .dataframe tbody tr th {\n",
              "        vertical-align: top;\n",
              "    }\n",
              "\n",
              "    .dataframe thead th {\n",
              "        text-align: right;\n",
              "    }\n",
              "</style>\n",
              "<table border=\"1\" class=\"dataframe\">\n",
              "  <thead>\n",
              "    <tr style=\"text-align: right;\">\n",
              "      <th></th>\n",
              "      <th>Unnamed: 0</th>\n",
              "      <th>Beschreibung</th>\n",
              "      <th>Produktgruppe</th>\n",
              "      <th>Kurzbeschreibung</th>\n",
              "    </tr>\n",
              "  </thead>\n",
              "  <tbody>\n",
              "    <tr>\n",
              "      <th>0</th>\n",
              "      <td>0</td>\n",
              "      <td>Deckchair aus 100 % Polypropylen, PVC-frei und...</td>\n",
              "      <td>Stühle</td>\n",
              "      <td>Deckchair, blau</td>\n",
              "    </tr>\n",
              "    <tr>\n",
              "      <th>1</th>\n",
              "      <td>1</td>\n",
              "      <td>Renato Santi-Umhängetasche aus Leder mit Softm...</td>\n",
              "      <td>Taschen und Geldbörsen</td>\n",
              "      <td>Umhängetasche, schwarz</td>\n",
              "    </tr>\n",
              "    <tr>\n",
              "      <th>2</th>\n",
              "      <td>2</td>\n",
              "      <td>von TOGETHER Oberteil aus Spitze, blickdicht g...</td>\n",
              "      <td>Damen-Kleider</td>\n",
              "      <td>Kleid, koralle</td>\n",
              "    </tr>\n",
              "    <tr>\n",
              "      <th>3</th>\n",
              "      <td>3</td>\n",
              "      <td>Jacke: RH, 3/4-Arm mit Schlitz, am Ausschnitt ...</td>\n",
              "      <td>Damen-Sets Strick-/Jacke und Pullover</td>\n",
              "      <td>Twinset, oliv-türkis</td>\n",
              "    </tr>\n",
              "    <tr>\n",
              "      <th>4</th>\n",
              "      <td>4</td>\n",
              "      <td>Anhänger mit 1 weißen Süßwasserzuchtperle, ca....</td>\n",
              "      <td>Anhänger</td>\n",
              "      <td>Anhänger, GG 585 B</td>\n",
              "    </tr>\n",
              "    <tr>\n",
              "      <th>5</th>\n",
              "      <td>5</td>\n",
              "      <td>Pullover durch Zierknöpfe am Ausschnitt geschm...</td>\n",
              "      <td>Damen-Pullover</td>\n",
              "      <td>Pullover,blau</td>\n",
              "    </tr>\n",
              "    <tr>\n",
              "      <th>6</th>\n",
              "      <td>6</td>\n",
              "      <td>SUPERGA-Schnürer 2750 Cotu Classic aus Canvas....</td>\n",
              "      <td>Halbschuhe</td>\n",
              "      <td>Schnürschuh, rot</td>\n",
              "    </tr>\n",
              "    <tr>\n",
              "      <th>7</th>\n",
              "      <td>7</td>\n",
              "      <td>Blousonshirt, Hemdkragen, Knopfleiste, 3 Knöpf...</td>\n",
              "      <td>Herren-Shirts</td>\n",
              "      <td>Blousonshirt,rosenholz</td>\n",
              "    </tr>\n",
              "    <tr>\n",
              "      <th>8</th>\n",
              "      <td>8</td>\n",
              "      <td>Damenring aus der Serie Firenze, mit mokkafarb...</td>\n",
              "      <td>Ringe</td>\n",
              "      <td>Damenring, Edelstahl</td>\n",
              "    </tr>\n",
              "    <tr>\n",
              "      <th>9</th>\n",
              "      <td>9</td>\n",
              "      <td>WALDLÄUFER-Schnürschuh aus Leder. Mit schönem ...</td>\n",
              "      <td>Halbschuhe</td>\n",
              "      <td>Schnürschuh, weiß</td>\n",
              "    </tr>\n",
              "  </tbody>\n",
              "</table>\n",
              "</div>"
            ],
            "text/plain": [
              "   Unnamed: 0                                       Beschreibung  \\\n",
              "0           0  Deckchair aus 100 % Polypropylen, PVC-frei und...   \n",
              "1           1  Renato Santi-Umhängetasche aus Leder mit Softm...   \n",
              "2           2  von TOGETHER Oberteil aus Spitze, blickdicht g...   \n",
              "3           3  Jacke: RH, 3/4-Arm mit Schlitz, am Ausschnitt ...   \n",
              "4           4  Anhänger mit 1 weißen Süßwasserzuchtperle, ca....   \n",
              "5           5  Pullover durch Zierknöpfe am Ausschnitt geschm...   \n",
              "6           6  SUPERGA-Schnürer 2750 Cotu Classic aus Canvas....   \n",
              "7           7  Blousonshirt, Hemdkragen, Knopfleiste, 3 Knöpf...   \n",
              "8           8  Damenring aus der Serie Firenze, mit mokkafarb...   \n",
              "9           9  WALDLÄUFER-Schnürschuh aus Leder. Mit schönem ...   \n",
              "\n",
              "                           Produktgruppe        Kurzbeschreibung  \n",
              "0                                 Stühle         Deckchair, blau  \n",
              "1                 Taschen und Geldbörsen  Umhängetasche, schwarz  \n",
              "2                          Damen-Kleider          Kleid, koralle  \n",
              "3  Damen-Sets Strick-/Jacke und Pullover    Twinset, oliv-türkis  \n",
              "4                               Anhänger      Anhänger, GG 585 B  \n",
              "5                         Damen-Pullover           Pullover,blau  \n",
              "6                             Halbschuhe        Schnürschuh, rot  \n",
              "7                          Herren-Shirts  Blousonshirt,rosenholz  \n",
              "8                                  Ringe    Damenring, Edelstahl  \n",
              "9                             Halbschuhe       Schnürschuh, weiß  "
            ]
          },
          "execution_count": 79,
          "metadata": {},
          "output_type": "execute_result"
        }
      ],
      "source": [
        "df_products.head(10)"
      ]
    },
    {
      "cell_type": "markdown",
      "metadata": {
        "id": "qeAODzAbzKta"
      },
      "source": [
        "In der Spalte namens Produktgruppe sind Wörter hinterlegt. Der Einfachheit halber wird jeder Kateogorie eine Ganzzahl zugewiesen, um die Klassifizierung des Vorhersagemodells durch eine **Produkt ID** zu vereinfachen."
      ]
    },
    {
      "cell_type": "code",
      "execution_count": 10,
      "metadata": {
        "colab": {
          "base_uri": "https://localhost:8080/",
          "height": 111
        },
        "id": "t7XxKRr6KFmF",
        "outputId": "a708a650-d4ca-4b9a-fd4f-54e6aa178ecf"
      },
      "outputs": [
        {
          "data": {
            "text/html": [
              "<div>\n",
              "<style scoped>\n",
              "    .dataframe tbody tr th:only-of-type {\n",
              "        vertical-align: middle;\n",
              "    }\n",
              "\n",
              "    .dataframe tbody tr th {\n",
              "        vertical-align: top;\n",
              "    }\n",
              "\n",
              "    .dataframe thead th {\n",
              "        text-align: right;\n",
              "    }\n",
              "</style>\n",
              "<table border=\"1\" class=\"dataframe\">\n",
              "  <thead>\n",
              "    <tr style=\"text-align: right;\">\n",
              "      <th></th>\n",
              "      <th>Beschreibung</th>\n",
              "      <th>Produktgruppe</th>\n",
              "      <th>Kurzbeschreibung</th>\n",
              "      <th>Produkt_ID</th>\n",
              "    </tr>\n",
              "  </thead>\n",
              "  <tbody>\n",
              "    <tr>\n",
              "      <th>0</th>\n",
              "      <td>Deckchair aus 100 % Polypropylen, PVC-frei und...</td>\n",
              "      <td>Stühle</td>\n",
              "      <td>Deckchair, blau</td>\n",
              "      <td>0</td>\n",
              "    </tr>\n",
              "    <tr>\n",
              "      <th>1</th>\n",
              "      <td>Renato Santi-Umhängetasche aus Leder mit Softm...</td>\n",
              "      <td>Taschen und Geldbörsen</td>\n",
              "      <td>Umhängetasche, schwarz</td>\n",
              "      <td>1</td>\n",
              "    </tr>\n",
              "  </tbody>\n",
              "</table>\n",
              "</div>"
            ],
            "text/plain": [
              "                                        Beschreibung           Produktgruppe  \\\n",
              "0  Deckchair aus 100 % Polypropylen, PVC-frei und...                  Stühle   \n",
              "1  Renato Santi-Umhängetasche aus Leder mit Softm...  Taschen und Geldbörsen   \n",
              "\n",
              "         Kurzbeschreibung  Produkt_ID  \n",
              "0         Deckchair, blau           0  \n",
              "1  Umhängetasche, schwarz           1  "
            ]
          },
          "execution_count": 10,
          "metadata": {},
          "output_type": "execute_result"
        }
      ],
      "source": [
        "df_products['Produkt_ID'] = df_products['Produktgruppe'].factorize()[0]\n",
        "df_products.head(2)"
      ]
    },
    {
      "cell_type": "markdown",
      "metadata": {
        "id": "c4svV8sQBs-4"
      },
      "source": [
        "Zur Vergewisserung wie viele Daten enthalten sind, wird per shape Funktion die Gesamtzahl nebst verfügbarer Spalten plakativ dargestellt."
      ]
    },
    {
      "cell_type": "code",
      "execution_count": 11,
      "metadata": {
        "colab": {
          "base_uri": "https://localhost:8080/"
        },
        "id": "f4OKr8C_9jCj",
        "outputId": "1ac49d97-a99f-4f5b-fd78-6b314b0df67e"
      },
      "outputs": [
        {
          "data": {
            "text/plain": [
              "(101516, 4)"
            ]
          },
          "execution_count": 11,
          "metadata": {},
          "output_type": "execute_result"
        }
      ],
      "source": [
        "df_products.shape"
      ]
    },
    {
      "cell_type": "markdown",
      "metadata": {
        "id": "KgpQxrReCD7N"
      },
      "source": [
        "Die Gesamtzahl der Datenpunkte ist in wenigen Fälle ein guter Indikator für ein gutes Modell. Wichtig in diesem Beispiel ist, wie viel Daten (Artikel) pro Produktgruppe zur Verfügung stehen und ob die Verteilung der Artikel auf die Produktgruppen homogen ist. Daher finden wir zunächst heraus wie viel Produktgruppen wir überhaupt in den Daten finden:"
      ]
    },
    {
      "cell_type": "code",
      "execution_count": 12,
      "metadata": {
        "colab": {
          "base_uri": "https://localhost:8080/"
        },
        "id": "g0g2uJBmCvSt",
        "outputId": "a59fdb36-9810-42b2-b800-dfbae9361932"
      },
      "outputs": [
        {
          "data": {
            "text/plain": [
              "441"
            ]
          },
          "execution_count": 12,
          "metadata": {},
          "output_type": "execute_result"
        }
      ],
      "source": [
        "df_products['Produktgruppe'].nunique()"
      ]
    },
    {
      "cell_type": "markdown",
      "metadata": {
        "id": "9w0_ZO5HS8jo"
      },
      "source": [
        "Die zuvor ermittelten Produktgruppen allesamt visuell darzustellen würde wenig Sinn machen. Interessanter wird die Darstellung, wenn die jeweils vorhandenen Artikel innerhalb der Produktgruppen durch Bereiche repräsentiert werden. Ebenso lassen sich gezielt die 30 Produktgruppen darstellen mit den höchsten Artikeln."
      ]
    },
    {
      "cell_type": "code",
      "execution_count": 13,
      "metadata": {
        "colab": {
          "base_uri": "https://localhost:8080/"
        },
        "id": "amVkYvL8S9yZ",
        "outputId": "751ac8f9-2226-4e46-9501-01dbcc2fedbc"
      },
      "outputs": [
        {
          "data": {
            "text/plain": [
              "Damen-Shirts                  7959\n",
              "Damen-Blusen                  5402\n",
              "Damen-Hosen                   4570\n",
              "Damen-Pullover                3873\n",
              "Damen-Kleider                 3334\n",
              "Damen-Jacken                  2839\n",
              "BHs                           2257\n",
              "Ketten                        2127\n",
              "Damen-Jeans                   1895\n",
              "Lampen und Leuchten           1877\n",
              "Bettwäsche                    1809\n",
              "Taschen und Geldbörsen        1729\n",
              "Herren-Shirts                 1557\n",
              "Halbschuhe                    1547\n",
              "Damen-Strickjacken            1494\n",
              "Damen-Tops                    1483\n",
              "Polstermöbel                  1434\n",
              "Figuren und Skulpturen        1434\n",
              "Armschmuck und Fußkettchen    1353\n",
              "Damen-Blazer                  1319\n",
              "Tücher und Schals             1285\n",
              "Damen-Röcke                   1239\n",
              "Dekokissen                    1193\n",
              "Anhänger                      1192\n",
              "Unterhosen                    1189\n",
              "Teppiche, Läufer, Schmufa     1150\n",
              "Herren-Hosen                  1105\n",
              "Ohrringe                      1031\n",
              "Sandalen                      1026\n",
              "Herren-Hemden                  964\n",
              "Name: Produktgruppe, dtype: int64"
            ]
          },
          "execution_count": 13,
          "metadata": {},
          "output_type": "execute_result"
        }
      ],
      "source": [
        "df_products_threshold = df_products['Produktgruppe'].value_counts()[:30]\n",
        "df_products_threshold"
      ]
    },
    {
      "cell_type": "markdown",
      "metadata": {
        "id": "t3WOy2qJqdSI"
      },
      "source": [
        "Es zeigt sich, dass bereits innerhalb der ersten 30 Kategorien ein rapider Abfall der zur Verfügung stehenenden Artikel pro Kategorie stattfindet."
      ]
    },
    {
      "cell_type": "code",
      "execution_count": 14,
      "metadata": {
        "colab": {
          "base_uri": "https://localhost:8080/"
        },
        "id": "TkPgNnINrbP2",
        "outputId": "d159ebf3-3589-4cc7-886b-cb784ce426ce"
      },
      "outputs": [
        {
          "data": {
            "text/plain": [
              "411"
            ]
          },
          "execution_count": 14,
          "metadata": {},
          "output_type": "execute_result"
        }
      ],
      "source": [
        "threshold = 964 \n",
        "df_products_underrepresented = (df_products['Produktgruppe'].value_counts() < threshold)\n",
        "df_products_underrepresented.sum()"
      ]
    },
    {
      "cell_type": "markdown",
      "metadata": {},
      "source": [
        "Wir benutzen daher nur die zuvor aufgezeigten 30 Produktgruppen."
      ]
    },
    {
      "cell_type": "code",
      "execution_count": 15,
      "metadata": {
        "id": "KvWDP7AeRnCt"
      },
      "outputs": [],
      "source": [
        "df_products_used = df_products[df_products.groupby('Produktgruppe')['Produktgruppe'].transform('size')>threshold].reset_index(drop=True)"
      ]
    },
    {
      "cell_type": "code",
      "execution_count": 16,
      "metadata": {
        "colab": {
          "base_uri": "https://localhost:8080/"
        },
        "id": "J1KjBiXDUht2",
        "outputId": "68113e63-15b4-4dbc-b47b-a77e4784f5b2"
      },
      "outputs": [
        {
          "data": {
            "text/plain": [
              "(61702, 4)"
            ]
          },
          "execution_count": 16,
          "metadata": {},
          "output_type": "execute_result"
        }
      ],
      "source": [
        "df_products_used.shape"
      ]
    },
    {
      "cell_type": "code",
      "execution_count": 17,
      "metadata": {
        "colab": {
          "base_uri": "https://localhost:8080/"
        },
        "id": "GP7iwb-kewrD",
        "outputId": "15df5c62-bb33-4778-8e0d-46162e311028"
      },
      "outputs": [
        {
          "data": {
            "text/plain": [
              "Damen-Shirts                  7959\n",
              "Damen-Blusen                  5402\n",
              "Damen-Hosen                   4570\n",
              "Damen-Pullover                3873\n",
              "Damen-Kleider                 3334\n",
              "Damen-Jacken                  2839\n",
              "BHs                           2257\n",
              "Ketten                        2127\n",
              "Damen-Jeans                   1895\n",
              "Lampen und Leuchten           1877\n",
              "Bettwäsche                    1809\n",
              "Taschen und Geldbörsen        1729\n",
              "Herren-Shirts                 1557\n",
              "Halbschuhe                    1547\n",
              "Damen-Strickjacken            1494\n",
              "Damen-Tops                    1483\n",
              "Polstermöbel                  1434\n",
              "Figuren und Skulpturen        1434\n",
              "Armschmuck und Fußkettchen    1353\n",
              "Damen-Blazer                  1319\n",
              "Tücher und Schals             1285\n",
              "Damen-Röcke                   1239\n",
              "Dekokissen                    1193\n",
              "Anhänger                      1192\n",
              "Unterhosen                    1189\n",
              "Teppiche, Läufer, Schmufa     1150\n",
              "Herren-Hosen                  1105\n",
              "Ohrringe                      1031\n",
              "Sandalen                      1026\n",
              "Name: Produktgruppe, dtype: int64"
            ]
          },
          "execution_count": 17,
          "metadata": {},
          "output_type": "execute_result"
        }
      ],
      "source": [
        "df_products_used['Produktgruppe'].value_counts()"
      ]
    },
    {
      "cell_type": "markdown",
      "metadata": {
        "id": "pJ5EojAqr2hl"
      },
      "source": [
        "### Weitere Strategien\n",
        "Die Annahme ist bestätigt, dass 411 Produktgruppen merklich weniger Artikel für das später folgende Modelltraining beinhalten, Sie können der Stelle andere Strategien verfolgen und entweder einzelne und oder andere Gruppierungen von Produktgruppen vornehmen."
      ]
    },
    {
      "cell_type": "markdown",
      "metadata": {
        "id": "EjaBoVbF4Mpf"
      },
      "source": [
        "Nichtsdestotrotz ist es nun an der Zeit gezielt eine Artikelbeschriebung zu betrachten, um Strategien für die Verarbeitung abzuleiten. Nachfolgend wird wahllos eine Beschreibung dargestellt."
      ]
    },
    {
      "cell_type": "code",
      "execution_count": 18,
      "metadata": {
        "colab": {
          "base_uri": "https://localhost:8080/",
          "height": 52
        },
        "id": "mCivCrha4V32",
        "outputId": "e7f47adf-1c29-4cbb-ea76-461ec444d226"
      },
      "outputs": [
        {
          "data": {
            "text/plain": [
              "'Jomos-Schnürschuh aus genarbtem Nappaleder. Schaftrand- und Laschenpolsterung. Hoher Tragekomfort durch Lederfutter und auswechselbare, leicht gepolsterte Lederdecksohle. Flexibellaufsohle. Bequemweite H. in 4 Farben herren'"
            ]
          },
          "execution_count": 18,
          "metadata": {},
          "output_type": "execute_result"
        }
      ],
      "source": [
        "df_products_used['Beschreibung'][9]"
      ]
    },
    {
      "cell_type": "markdown",
      "metadata": {
        "id": "QSFJbk3ss6oI"
      },
      "source": [
        "Es lässt sich ableiten, dass die Artikelbeschreibungen keiner bestimmten Norm folgen, die eine einheitliche Vorverarbeitung merklich vereinfachen würden. Nachfolgend wollen wir die jeweiligen Beschreibungstexte genauer unter die Lupe nehmen und erstellen eine neue Spalte, die jeweils die Zahl der genutzten Zeichen der Artikelbschreibung beinhaltet. Wir konvertieren hierzu die Beschreibungen in Strings und zählen die Buchstaben jeder Beschreibung, damit die Summe der Buchstaben in einer neuen Spalte nahmens Zeichenanzahl hinterlegt wird."
      ]
    },
    {
      "cell_type": "code",
      "execution_count": 19,
      "metadata": {
        "colab": {
          "base_uri": "https://localhost:8080/",
          "height": 361
        },
        "id": "8QgqDFVChW-b",
        "outputId": "9c6e731a-4811-40f7-e4c7-363769bda94f"
      },
      "outputs": [
        {
          "data": {
            "text/html": [
              "<div>\n",
              "<style scoped>\n",
              "    .dataframe tbody tr th:only-of-type {\n",
              "        vertical-align: middle;\n",
              "    }\n",
              "\n",
              "    .dataframe tbody tr th {\n",
              "        vertical-align: top;\n",
              "    }\n",
              "\n",
              "    .dataframe thead th {\n",
              "        text-align: right;\n",
              "    }\n",
              "</style>\n",
              "<table border=\"1\" class=\"dataframe\">\n",
              "  <thead>\n",
              "    <tr style=\"text-align: right;\">\n",
              "      <th></th>\n",
              "      <th>Beschreibung</th>\n",
              "      <th>Produktgruppe</th>\n",
              "      <th>Kurzbeschreibung</th>\n",
              "      <th>Produkt_ID</th>\n",
              "      <th>Zeichenanzahl</th>\n",
              "    </tr>\n",
              "  </thead>\n",
              "  <tbody>\n",
              "    <tr>\n",
              "      <th>40791</th>\n",
              "      <td>Ecksofa 'Genova' B293xT160xH88 cm, ca. 94,5kg ...</td>\n",
              "      <td>Polstermöbel</td>\n",
              "      <td>Ecksofa rechts schwarz</td>\n",
              "      <td>56</td>\n",
              "      <td>1826</td>\n",
              "    </tr>\n",
              "    <tr>\n",
              "      <th>40787</th>\n",
              "      <td>Ecksofa 'Genova' B293xT160xH88 cm, ca. 94,5kg ...</td>\n",
              "      <td>Polstermöbel</td>\n",
              "      <td>Ecksofa links schwarz</td>\n",
              "      <td>56</td>\n",
              "      <td>1826</td>\n",
              "    </tr>\n",
              "    <tr>\n",
              "      <th>50853</th>\n",
              "      <td>Impressionen living Kuschelsofa, taupe Materia...</td>\n",
              "      <td>Polstermöbel</td>\n",
              "      <td>Kuschelsofa, taupe</td>\n",
              "      <td>56</td>\n",
              "      <td>1811</td>\n",
              "    </tr>\n",
              "    <tr>\n",
              "      <th>50137</th>\n",
              "      <td>Palmen-Armband, Glanz, Länge ca. 15,5 cm, mit ...</td>\n",
              "      <td>Armschmuck und Fußkettchen</td>\n",
              "      <td>Palmen-Armband,925 ver</td>\n",
              "      <td>55</td>\n",
              "      <td>1771</td>\n",
              "    </tr>\n",
              "    <tr>\n",
              "      <th>50145</th>\n",
              "      <td>Palmen-Armband, Glanz, Länge ca. 15,5 cm, mit ...</td>\n",
              "      <td>Armschmuck und Fußkettchen</td>\n",
              "      <td>Palmen-Armband, 925</td>\n",
              "      <td>55</td>\n",
              "      <td>1756</td>\n",
              "    </tr>\n",
              "    <tr>\n",
              "      <th>50201</th>\n",
              "      <td>Herz-Collier, Glanz, Länge ca. 45 cm, Federrin...</td>\n",
              "      <td>Ketten</td>\n",
              "      <td>Herz-Collier, 925 verg</td>\n",
              "      <td>46</td>\n",
              "      <td>1745</td>\n",
              "    </tr>\n",
              "    <tr>\n",
              "      <th>50230</th>\n",
              "      <td>Stern-Collier, Glanz, Länge ca. 45 cm, Federri...</td>\n",
              "      <td>Ketten</td>\n",
              "      <td>Stern-Collier,925 verg</td>\n",
              "      <td>46</td>\n",
              "      <td>1735</td>\n",
              "    </tr>\n",
              "    <tr>\n",
              "      <th>40801</th>\n",
              "      <td>Ecksofa 'Genova' B293xT160xH88 cm, ca. 94,5kg ...</td>\n",
              "      <td>Polstermöbel</td>\n",
              "      <td>Ecksofa rechts weiß</td>\n",
              "      <td>56</td>\n",
              "      <td>1730</td>\n",
              "    </tr>\n",
              "    <tr>\n",
              "      <th>40802</th>\n",
              "      <td>Ecksofa 'Genova' B293xT160xH88 cm, ca. 94,5kg ...</td>\n",
              "      <td>Polstermöbel</td>\n",
              "      <td>Ecksofa links weiß</td>\n",
              "      <td>56</td>\n",
              "      <td>1730</td>\n",
              "    </tr>\n",
              "    <tr>\n",
              "      <th>50148</th>\n",
              "      <td>Flamingo-Armband, Glanz, Länge ca. 15,5 cm, mi...</td>\n",
              "      <td>Armschmuck und Fußkettchen</td>\n",
              "      <td>Flamingo-Armband,925 r</td>\n",
              "      <td>55</td>\n",
              "      <td>1724</td>\n",
              "    </tr>\n",
              "  </tbody>\n",
              "</table>\n",
              "</div>"
            ],
            "text/plain": [
              "                                            Beschreibung  \\\n",
              "40791  Ecksofa 'Genova' B293xT160xH88 cm, ca. 94,5kg ...   \n",
              "40787  Ecksofa 'Genova' B293xT160xH88 cm, ca. 94,5kg ...   \n",
              "50853  Impressionen living Kuschelsofa, taupe Materia...   \n",
              "50137  Palmen-Armband, Glanz, Länge ca. 15,5 cm, mit ...   \n",
              "50145  Palmen-Armband, Glanz, Länge ca. 15,5 cm, mit ...   \n",
              "50201  Herz-Collier, Glanz, Länge ca. 45 cm, Federrin...   \n",
              "50230  Stern-Collier, Glanz, Länge ca. 45 cm, Federri...   \n",
              "40801  Ecksofa 'Genova' B293xT160xH88 cm, ca. 94,5kg ...   \n",
              "40802  Ecksofa 'Genova' B293xT160xH88 cm, ca. 94,5kg ...   \n",
              "50148  Flamingo-Armband, Glanz, Länge ca. 15,5 cm, mi...   \n",
              "\n",
              "                    Produktgruppe        Kurzbeschreibung  Produkt_ID  \\\n",
              "40791                Polstermöbel  Ecksofa rechts schwarz          56   \n",
              "40787                Polstermöbel   Ecksofa links schwarz          56   \n",
              "50853                Polstermöbel      Kuschelsofa, taupe          56   \n",
              "50137  Armschmuck und Fußkettchen  Palmen-Armband,925 ver          55   \n",
              "50145  Armschmuck und Fußkettchen     Palmen-Armband, 925          55   \n",
              "50201                      Ketten  Herz-Collier, 925 verg          46   \n",
              "50230                      Ketten  Stern-Collier,925 verg          46   \n",
              "40801                Polstermöbel     Ecksofa rechts weiß          56   \n",
              "40802                Polstermöbel      Ecksofa links weiß          56   \n",
              "50148  Armschmuck und Fußkettchen  Flamingo-Armband,925 r          55   \n",
              "\n",
              "       Zeichenanzahl  \n",
              "40791           1826  \n",
              "40787           1826  \n",
              "50853           1811  \n",
              "50137           1771  \n",
              "50145           1756  \n",
              "50201           1745  \n",
              "50230           1735  \n",
              "40801           1730  \n",
              "40802           1730  \n",
              "50148           1724  "
            ]
          },
          "execution_count": 19,
          "metadata": {},
          "output_type": "execute_result"
        }
      ],
      "source": [
        "df_products_used['Beschreibung'] = df_products_used['Beschreibung'].astype(str)\n",
        "df_products_used['Zeichenanzahl'] = df_products_used['Beschreibung'].apply(len)\n",
        "df_products_used.sort_values(by='Zeichenanzahl', ascending=False).head(10)"
      ]
    },
    {
      "cell_type": "markdown",
      "metadata": {
        "id": "5uxkRSnIlYvC"
      },
      "source": [
        "Wir können dem Modell positiv entgegenwirken, indem wir die Artikelbeschreibungen formatieren. Hierzu setzen wir eine neue Methode auf, die alle Wörter in Kleinschreibung konvertiert, Sonderzeichen löscht und Buchstaben löscht, die einzeln oder zu zweit vorhanden sind aber nicht als Stopp-Wörter gesehen werden.\n",
        "Nun kann es vorkommen, dass durch das Aufäumen des Texts einzelne Buchstaben oder zwei Buchstaben vorhanden sind, die nicht durch die Stoppwörter entfernt werden. Sie können hier noch einen weiteren Ausdruck einfügen, um diese zu entfernen."
      ]
    },
    {
      "cell_type": "code",
      "execution_count": 20,
      "metadata": {
        "id": "KkOrp2fMlZZc"
      },
      "outputs": [],
      "source": [
        "def vorverarbeitung(words):\n",
        "    words = re.sub(\"[^A-Za-zäÄöÖüÜß]\", \" \", words)\n",
        "    words = re.sub(\"ö\", \"oe\", words)\n",
        "    words = re.sub(\"ä\", \"ae\", words)\n",
        "    words = re.sub(\"ü\", \"ue\", words)\n",
        "    words = re.sub(\"Ö\", \"Oe\", words)\n",
        "    words = re.sub(\"Ä\", \"Ae\", words)\n",
        "    words = re.sub(\"Ü\", \"Ue\", words)\n",
        "    words = re.sub(\"ß\", \"ss\", words)\n",
        "    words = re.sub(r'\\b\\w{1,2}\\b', \" \", words)\n",
        "    text = words.lower().split()\n",
        "\n",
        "    return \" \".join(text)"
      ]
    },
    {
      "cell_type": "code",
      "execution_count": 21,
      "metadata": {
        "id": "Vgq__Blvmh3v"
      },
      "outputs": [],
      "source": [
        "df_products_used['Beschreibung_Sauber'] = df_products_used['Beschreibung'].apply(vorverarbeitung)"
      ]
    },
    {
      "cell_type": "code",
      "execution_count": 22,
      "metadata": {
        "colab": {
          "base_uri": "https://localhost:8080/",
          "height": 52
        },
        "id": "sLZfR2Spne-x",
        "outputId": "0e38a897-eb7d-46a6-d008-aff5db9caba9"
      },
      "outputs": [
        {
          "data": {
            "text/plain": [
              "'jomos schnuerschuh aus genarbtem nappaleder schaftrand und laschenpolsterung hoher tragekomfort durch lederfutter und auswechselbare leicht gepolsterte lederdecksohle flexibellaufsohle bequemweite farben herren'"
            ]
          },
          "execution_count": 22,
          "metadata": {},
          "output_type": "execute_result"
        }
      ],
      "source": [
        "df_products_used['Beschreibung_Sauber'][9]"
      ]
    },
    {
      "cell_type": "markdown",
      "metadata": {
        "id": "Jn7dC3un1Gjc"
      },
      "source": [
        "Jetzt können wir uns aus dem Standard-Repertoire an Werkzeugen bedienen. Zunächst können die Stoppwörter aus den Artikelbeschreibungen entfernt werden, um den rohen Informationsgehalt zu erhalten. Stoppwörter können prinzipiell ignoriert werden, da sie dem Text wenig Bedetung verleihen.\n",
        "\n",
        "Für diesen Fall müssen wir die deutschen Stoppwörter aus allen Beschreibungstexten filtern."
      ]
    },
    {
      "cell_type": "code",
      "execution_count": 23,
      "metadata": {
        "id": "fCJqeR5KLA7g"
      },
      "outputs": [],
      "source": [
        "german_stopwords = stopwords.words('german')"
      ]
    },
    {
      "cell_type": "markdown",
      "metadata": {},
      "source": [
        "Wir können uns an der Stelle auch die Stoppwörter ansehen. Der Einfachheit halber werden nur die ersten 10 dargestellt. Sie können sich hier alle anzeigen lassen, indem die eckige Klammer entfernt wird."
      ]
    },
    {
      "cell_type": "code",
      "execution_count": 24,
      "metadata": {
        "colab": {
          "base_uri": "https://localhost:8080/"
        },
        "id": "A-sHy-bBteAm",
        "outputId": "7f8a2293-2e1d-4a38-86d1-672524160d84"
      },
      "outputs": [
        {
          "data": {
            "text/plain": [
              "['aber', 'alle', 'allem', 'allen', 'aller', 'alles', 'als', 'also', 'am', 'an']"
            ]
          },
          "execution_count": 24,
          "metadata": {},
          "output_type": "execute_result"
        }
      ],
      "source": [
        "german_stopwords[:10]"
      ]
    },
    {
      "cell_type": "code",
      "execution_count": 25,
      "metadata": {
        "id": "-FKCiVwMLeuk"
      },
      "outputs": [],
      "source": [
        "def delete_stopwords(text):\n",
        "    text = [word.lower() for word in text.split() if word.lower() not in german_stopwords]\n",
        "    return \" \".join(text)"
      ]
    },
    {
      "cell_type": "code",
      "execution_count": 26,
      "metadata": {
        "id": "Fq5M6ZwSLurE"
      },
      "outputs": [],
      "source": [
        "df_products_used['Beschreibung_Sauber'] = df_products_used['Beschreibung_Sauber'].apply(delete_stopwords)"
      ]
    },
    {
      "cell_type": "markdown",
      "metadata": {
        "id": "7j0j1oBw15SA"
      },
      "source": [
        "Nun wird die Lemmatisierung eingesetzt. Bei der Lemmatisierung werden die verschiedenen Formen eines Wortes gruppiert, damit sie als ein einziges Element analysiert werden können. Zwar ähnelt die Lemmatisierung dem Stemming, aber sie bringt die Wörter in einen Kontext. Sie verbindet also Wörter mit ähnlichen Bedeutungen zu einem Wort was uns bei den Artikelbeschreibungen einen deutlichen Vorteil bringen könnte."
      ]
    },
    {
      "cell_type": "code",
      "execution_count": 27,
      "metadata": {
        "id": "ZNJtHf0FMwZq"
      },
      "outputs": [],
      "source": [
        "lem = WordNetLemmatizer()"
      ]
    },
    {
      "cell_type": "code",
      "execution_count": 28,
      "metadata": {
        "id": "_ie_m63HMybp"
      },
      "outputs": [],
      "source": [
        "def building_lemmatization(text):\n",
        "    lemma_text = [lem.lemmatize(word) for word in text.split()]\n",
        "    return \" \".join(lemma_text)"
      ]
    },
    {
      "cell_type": "code",
      "execution_count": 29,
      "metadata": {
        "id": "ZyTvXgAtM5WS"
      },
      "outputs": [],
      "source": [
        "df_products_used['Beschreibung_Sauber'] = df_products_used['Beschreibung_Sauber'].apply(building_lemmatization)"
      ]
    },
    {
      "cell_type": "markdown",
      "metadata": {
        "id": "wtsA8Qrqujb5"
      },
      "source": [
        "Mit der Funktion train_test_split sind wir in der Lage einen einzelnen Datensatz für zwei verschiedene Zwecke aufzuteilen: Einerseits Training, andererseits Test. Der Testdatensatz dient der Erstellung unseres Modells. Der Testdatensatz dient der Anwendung des Modells auf unbekannte Daten, um die Leistung unserers Modells zu bewerten."
      ]
    },
    {
      "cell_type": "code",
      "execution_count": 30,
      "metadata": {
        "id": "WYVpOVTgNrWl"
      },
      "outputs": [],
      "source": [
        "X_LinSVC = df_products_used['Beschreibung_Sauber']\n",
        "Y_LinSVC = df_products_used['Produkt_ID']\n",
        "\n",
        "X_train, X_test, y_train, y_test = train_test_split(X_LinSVC, Y_LinSVC, test_size=0.33, random_state=0)"
      ]
    },
    {
      "cell_type": "markdown",
      "metadata": {
        "id": "LkwMcLhFwBBM"
      },
      "source": [
        "Wir können uns hier eine Hilfe bedienen: Einer Pipeline! \n",
        "\n",
        "Eine Pipeline für maschinelles Lernen lässt sich erstellen, indem eine Abfolge von benötigten Schritten zusammengestellt wird, die beim Training eines Modells erforderlich sind. \n",
        "Wir erhalten somit eine Automatisierung eines Arbeitsablaufs für maschinelles Lernen. Nutzen lässt sich diese für Vorverarbeitung, Merkmalsauswahl, Klassifizierung/Regression und oder Nachverarbeitung. \n",
        "\n",
        "Je nach Komplexität der Applikation müssen möglicherweise weitere notwendige Schritte in eine Pipeline eingefügt werden."
      ]
    },
    {
      "cell_type": "code",
      "execution_count": 32,
      "metadata": {
        "id": "e-BVNlBkOQb9"
      },
      "outputs": [],
      "source": [
        "lin_svc_model = Pipeline([('vect', CountVectorizer(max_features=3500, ngram_range=(1,4))),\n",
        "                        ('tfidf', TfidfTransformer()),\n",
        "                        ('clf', LinearSVC())])"
      ]
    },
    {
      "cell_type": "code",
      "execution_count": 33,
      "metadata": {
        "colab": {
          "base_uri": "https://localhost:8080/"
        },
        "id": "fwQPL1SoOXco",
        "outputId": "9d6c385d-e54a-4a08-ff55-d514498421a1"
      },
      "outputs": [
        {
          "data": {
            "text/plain": [
              "Pipeline(steps=[('vect',\n",
              "                 CountVectorizer(max_features=3500, ngram_range=(1, 4))),\n",
              "                ('tfidf', TfidfTransformer()), ('clf', LinearSVC())])"
            ]
          },
          "execution_count": 33,
          "metadata": {},
          "output_type": "execute_result"
        }
      ],
      "source": [
        "lin_svc_model.fit(X_train, y_train)"
      ]
    },
    {
      "cell_type": "code",
      "execution_count": 34,
      "metadata": {
        "id": "mUSs3hCwOvNt"
      },
      "outputs": [],
      "source": [
        "y_test_array = np.array(y_test)\n",
        "prediction = lin_svc_model.predict(X_test)"
      ]
    },
    {
      "cell_type": "markdown",
      "metadata": {},
      "source": [
        "Nachfolgend kommen zwei Werkzeuge zum Einsatz:\n",
        "- Konfusionsmatrix\n",
        "- Klassifikationsbericht"
      ]
    },
    {
      "cell_type": "markdown",
      "metadata": {
        "id": "DOHxLbjska52"
      },
      "source": [
        "## Konfusionsmatrix\n",
        "\n",
        "Bei einem Klassifizierungsproblem kann es sein, dass die Angabe einer einzigen Klassifizierungsgenauigkeit nicht das ganze Bild wiedergibt. Daher wird eine Konfusionsmatrix oder Fehlermatrix verwendet, um die Leistung eines Klassifizierungsalgorithmus zusammenzufassen. Richtige und falsche Vorhersagen werden in einer Tabelle mit ihren Werten zusammengefasst und nach den einzelnen Klassen aufgeschlüsselt. "
      ]
    },
    {
      "cell_type": "markdown",
      "metadata": {},
      "source": [
        "Zunächst müssen wir noch die 30 ausgewählten Produktgruppen aufschlüsseln, damit wir die Legende der Konfusionsmatrix nebst Klassifikationsbericht interpretieren können."
      ]
    },
    {
      "cell_type": "code",
      "execution_count": 72,
      "metadata": {},
      "outputs": [
        {
          "name": "stdout",
          "output_type": "stream",
          "text": [
            "                 Produktgruppe  Produkt_ID  Zeichenanzahl\n",
            "0       Taschen und Geldbörsen           1         492781\n",
            "1                Damen-Kleider           2         762547\n",
            "2                     Anhänger           4         314359\n",
            "3               Damen-Pullover           5         943946\n",
            "4                   Halbschuhe           6         550779\n",
            "5                Herren-Shirts           7         419841\n",
            "6                 Damen-Shirts           9        1912423\n",
            "7                  Damen-Hosen          10        1218024\n",
            "8                          BHs          12         464296\n",
            "9                     Ohrringe          13         201934\n",
            "10                  Damen-Tops          14         305123\n",
            "11                 Damen-Jeans          16         647676\n",
            "12          Damen-Strickjacken          19         368640\n",
            "13                  Unterhosen          21         137277\n",
            "14                Damen-Blusen          22        1382932\n",
            "15           Tücher und Schals          33         165257\n",
            "16                Herren-Hosen          35         322333\n",
            "17                    Sandalen          37         276095\n",
            "18                Damen-Jacken          41         857561\n",
            "19                      Ketten          46         712283\n",
            "20                Damen-Blazer          47         420083\n",
            "21  Armschmuck und Fußkettchen          55         418235\n",
            "22                Polstermöbel          56         721606\n",
            "23         Lampen und Leuchten          61         595529\n",
            "24                 Damen-Röcke          70         262160\n",
            "25      Figuren und Skulpturen          78         213290\n",
            "26                  Dekokissen          82         301262\n",
            "27                  Bettwäsche         107         672309\n",
            "28   Teppiche, Läufer, Schmufa         129         425714\n"
          ]
        }
      ],
      "source": [
        "grouped_data = df_products_used.groupby(['Produktgruppe','Produkt_ID']).sum()\n",
        "grouped_data = grouped_data.sort_values(by=['Produkt_ID'], ascending=True).reset_index()\n",
        "print(grouped_data)"
      ]
    },
    {
      "cell_type": "code",
      "execution_count": 59,
      "metadata": {
        "id": "6TlRvlQZKate"
      },
      "outputs": [],
      "source": [
        "for_plotting = confusion_matrix(prediction,y_test_array)"
      ]
    },
    {
      "cell_type": "code",
      "execution_count": 43,
      "metadata": {
        "id": "E06MbhEDb470"
      },
      "outputs": [],
      "source": [
        "cm_df = pd.DataFrame(for_plotting)"
      ]
    },
    {
      "cell_type": "code",
      "execution_count": 65,
      "metadata": {
        "colab": {
          "base_uri": "https://localhost:8080/",
          "height": 1000
        },
        "id": "F_eI903jdbdt",
        "outputId": "01116a42-2138-4a4a-a8a6-fcdf13905904"
      },
      "outputs": [
        {
          "data": {
            "text/plain": [
              "<AxesSubplot:>"
            ]
          },
          "execution_count": 65,
          "metadata": {},
          "output_type": "execute_result"
        },
        {
          "data": {
            "image/png": "[encoded data removed]",
            "text/plain": [
              "<Figure size 1800x1440 with 2 Axes>"
            ]
          },
          "metadata": {
            "needs_background": "light"
          },
          "output_type": "display_data"
        }
      ],
      "source": [
        "plt.figure(figsize = (25,20))\n",
        "sns.heatmap(cm_df/np.sum(cm_df), annot=True, fmt='.2%', cmap='Blues')"
      ]
    },
    {
      "cell_type": "code",
      "execution_count": 71,
      "metadata": {
        "colab": {
          "base_uri": "https://localhost:8080/"
        },
        "id": "wh8gbIsrO3ac",
        "outputId": "c78e8b9f-e176-44f7-c24a-1aef5955df9d"
      },
      "outputs": [
        {
          "name": "stdout",
          "output_type": "stream",
          "text": [
            "              precision    recall  f1-score   support\n",
            "\n",
            "           1       0.90      0.83      0.86       566\n",
            "           2       0.74      0.85      0.79       965\n",
            "           4       0.95      0.96      0.95       406\n",
            "           5       0.85      0.85      0.85      1322\n",
            "           6       0.91      0.94      0.93       488\n",
            "           7       0.88      0.88      0.88       505\n",
            "           9       0.91      0.83      0.87      2946\n",
            "          10       0.90      0.82      0.86      1612\n",
            "          12       0.93      0.86      0.90       810\n",
            "          13       0.95      0.94      0.94       340\n",
            "          14       0.66      0.77      0.71       433\n",
            "          16       0.86      0.90      0.88       589\n",
            "          19       0.75      0.84      0.79       439\n",
            "          21       0.75      0.89      0.82       339\n",
            "          22       0.89      0.85      0.87      1822\n",
            "          33       0.92      0.94      0.93       427\n",
            "          35       0.78      0.88      0.83       314\n",
            "          37       0.89      0.91      0.90       333\n",
            "          41       0.75      0.79      0.77       839\n",
            "          46       0.93      0.90      0.91       773\n",
            "          47       0.74      0.83      0.78       381\n",
            "          55       0.79      0.87      0.83       409\n",
            "          56       0.99      0.99      0.99       483\n",
            "          61       0.95      0.93      0.94       611\n",
            "          70       0.79      0.89      0.84       367\n",
            "          78       0.86      0.90      0.88       471\n",
            "          82       0.98      0.96      0.97       421\n",
            "         107       0.98      0.99      0.99       566\n",
            "         129       0.97      0.99      0.98       385\n",
            "\n",
            "    accuracy                           0.87     20362\n",
            "   macro avg       0.87      0.89      0.88     20362\n",
            "weighted avg       0.88      0.87      0.87     20362\n",
            "\n"
          ]
        }
      ],
      "source": [
        "print(classification_report(prediction, y_test_array))"
      ]
    },
    {
      "cell_type": "markdown",
      "metadata": {
        "id": "LrjtlpB_Zwss"
      },
      "source": [
        "An dieser Stelle überlassen wir Ihnen das Feld und möchten Sie dazu animieren die **Parameter anzupassen** und die Beschreibungen weiter zu verarbeiten, um entweder in Richtung robustes oder akkurates Modell zu forschen.\n",
        "\n",
        "Nutzen Sie auch weitere **Modelle** und lassen Sie uns teilhaben, wie die Ergebnisse aussehen!\n",
        "\n",
        "**Wir wünschen Ihnen viel Spaß und freuen uns Ihre Ergebnisse zu sehen!**"
      ]
    }
  ],
  "metadata": {
    "colab": {
      "name": "KITag_03_Open.ipynb",
      "provenance": []
    },
    "interpreter": {
      "hash": "b3ba2566441a7c06988d0923437866b63cedc61552a5af99d1f4fb67d367b25f"
    },
    "kernelspec": {
      "display_name": "Python 3.8.5 64-bit ('base': conda)",
      "name": "python3"
    },
    "language_info": {
      "codemirror_mode": {
        "name": "ipython",
        "version": 3
      },
      "file_extension": ".py",
      "mimetype": "text/x-python",
      "name": "python",
      "nbconvert_exporter": "python",
      "pygments_lexer": "ipython3",
      "version": "3.8.5"
    }
  },
  "nbformat": 4,
  "nbformat_minor": 0
}
